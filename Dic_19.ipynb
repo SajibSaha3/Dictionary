{
 "cells": [
  {
   "cell_type": "code",
   "execution_count": 4,
   "metadata": {},
   "outputs": [
    {
     "data": {
      "text/plain": [
       "{'name': ['sayma', 'akib', 'omor'], 'age': [19, 20, 21]}"
      ]
     },
     "execution_count": 4,
     "metadata": {},
     "output_type": "execute_result"
    }
   ],
   "source": [
    "dic = {\n",
    "    \"name\" : [\"sayma\",\"akib\", \"omor\"],\n",
    "    \"age\" : [19,20,21]\n",
    "}\n",
    "dic"
   ]
  },
  {
   "cell_type": "code",
   "execution_count": 2,
   "metadata": {},
   "outputs": [],
   "source": [
    "import pandas as pd "
   ]
  },
  {
   "cell_type": "code",
   "execution_count": null,
   "metadata": {},
   "outputs": [],
   "source": [
    "# !pip install pandas"
   ]
  },
  {
   "cell_type": "code",
   "execution_count": 5,
   "metadata": {},
   "outputs": [
    {
     "data": {
      "text/html": [
       "<div>\n",
       "<style scoped>\n",
       "    .dataframe tbody tr th:only-of-type {\n",
       "        vertical-align: middle;\n",
       "    }\n",
       "\n",
       "    .dataframe tbody tr th {\n",
       "        vertical-align: top;\n",
       "    }\n",
       "\n",
       "    .dataframe thead th {\n",
       "        text-align: right;\n",
       "    }\n",
       "</style>\n",
       "<table border=\"1\" class=\"dataframe\">\n",
       "  <thead>\n",
       "    <tr style=\"text-align: right;\">\n",
       "      <th></th>\n",
       "      <th>name</th>\n",
       "      <th>age</th>\n",
       "    </tr>\n",
       "  </thead>\n",
       "  <tbody>\n",
       "    <tr>\n",
       "      <th>0</th>\n",
       "      <td>sayma</td>\n",
       "      <td>19</td>\n",
       "    </tr>\n",
       "    <tr>\n",
       "      <th>1</th>\n",
       "      <td>akib</td>\n",
       "      <td>20</td>\n",
       "    </tr>\n",
       "    <tr>\n",
       "      <th>2</th>\n",
       "      <td>omor</td>\n",
       "      <td>21</td>\n",
       "    </tr>\n",
       "  </tbody>\n",
       "</table>\n",
       "</div>"
      ],
      "text/plain": [
       "    name  age\n",
       "0  sayma   19\n",
       "1   akib   20\n",
       "2   omor   21"
      ]
     },
     "execution_count": 5,
     "metadata": {},
     "output_type": "execute_result"
    }
   ],
   "source": [
    "df = pd.DataFrame(dic)\n",
    "df"
   ]
  },
  {
   "cell_type": "code",
   "execution_count": 6,
   "metadata": {},
   "outputs": [
    {
     "data": {
      "text/plain": [
       "{'name': ['sayma', 'akib', 'omor'], 'age': [19, 20, 21]}"
      ]
     },
     "execution_count": 6,
     "metadata": {},
     "output_type": "execute_result"
    }
   ],
   "source": [
    "dic"
   ]
  },
  {
   "cell_type": "code",
   "execution_count": 7,
   "metadata": {},
   "outputs": [
    {
     "data": {
      "text/plain": [
       "dict_keys(['name', 'age'])"
      ]
     },
     "execution_count": 7,
     "metadata": {},
     "output_type": "execute_result"
    }
   ],
   "source": [
    "dic.keys()"
   ]
  },
  {
   "cell_type": "code",
   "execution_count": 8,
   "metadata": {},
   "outputs": [
    {
     "data": {
      "text/plain": [
       "dict_values([['sayma', 'akib', 'omor'], [19, 20, 21]])"
      ]
     },
     "execution_count": 8,
     "metadata": {},
     "output_type": "execute_result"
    }
   ],
   "source": [
    "dic.values()"
   ]
  },
  {
   "cell_type": "code",
   "execution_count": 17,
   "metadata": {},
   "outputs": [
    {
     "name": "stdout",
     "output_type": "stream",
     "text": [
      "zero 0\n",
      "one 1\n",
      "two 2\n",
      "four 4\n"
     ]
    }
   ],
   "source": [
    "#problem 1 \n",
    "d = {\"one\": 1, \"two\": 2, \"zero\": 0, \"four\": 4}\n",
    "val = list(d.values())\n",
    "val.sort()\n",
    "val\n",
    "for value in val:\n",
    "    #print(value)\n",
    "    for key in d:\n",
    "        #print(key)\n",
    "        if d[key] == value:\n",
    "            print(key , value)"
   ]
  },
  {
   "cell_type": "code",
   "execution_count": null,
   "metadata": {},
   "outputs": [],
   "source": []
  },
  {
   "cell_type": "code",
   "execution_count": 15,
   "metadata": {},
   "outputs": [
    {
     "data": {
      "text/plain": [
       "{'name': 'sajib'}"
      ]
     },
     "execution_count": 15,
     "metadata": {},
     "output_type": "execute_result"
    }
   ],
   "source": [
    "d = {}\n",
    "d[\"name\"] = \"sajib\"\n",
    "d"
   ]
  },
  {
   "cell_type": "code",
   "execution_count": 19,
   "metadata": {},
   "outputs": [
    {
     "data": {
      "text/plain": [
       "{0: 10, 1: 20, 'age': 20}"
      ]
     },
     "execution_count": 19,
     "metadata": {},
     "output_type": "execute_result"
    }
   ],
   "source": [
    "d =  {0: 10, 1: 20} # problem 2\n",
    "d[\"age\"] = 20\n",
    "d"
   ]
  },
  {
   "cell_type": "code",
   "execution_count": 21,
   "metadata": {},
   "outputs": [
    {
     "data": {
      "text/plain": [
       "{1: 10, 2: 20, 3: 30, 4: 40, 5: 50, 6: 60}"
      ]
     },
     "execution_count": 21,
     "metadata": {},
     "output_type": "execute_result"
    }
   ],
   "source": [
    "dic1={1:10, 2:20} # problem 3\n",
    "dic2={3:30, 4:40}\n",
    "dic3={5:50,6:60}\n",
    "\n",
    "dic4 = {}\n",
    "for i in (dic1,dic2,dic3):\n",
    "    #print(i)\n",
    "    dic4.update(i)\n",
    "dic4\n",
    "    \n"
   ]
  },
  {
   "cell_type": "code",
   "execution_count": 24,
   "metadata": {},
   "outputs": [
    {
     "data": {
      "text/plain": [
       "{1: 10, 2: 20}"
      ]
     },
     "execution_count": 24,
     "metadata": {},
     "output_type": "execute_result"
    }
   ],
   "source": [
    "dic45 = {}\n",
    "dic45 .update(dic1)\n"
   ]
  },
  {
   "cell_type": "code",
   "execution_count": 25,
   "metadata": {},
   "outputs": [
    {
     "ename": "TypeError",
     "evalue": "unsupported operand type(s) for +: 'dict' and 'dict'",
     "output_type": "error",
     "traceback": [
      "\u001b[1;31m---------------------------------------------------------------------------\u001b[0m",
      "\u001b[1;31mTypeError\u001b[0m                                 Traceback (most recent call last)",
      "Cell \u001b[1;32mIn[25], line 1\u001b[0m\n\u001b[1;32m----> 1\u001b[0m dic445\u001b[38;5;241m=\u001b[39m \u001b[43mdic1\u001b[49m\u001b[43m \u001b[49m\u001b[38;5;241;43m+\u001b[39;49m\u001b[43m \u001b[49m\u001b[43mdic3\u001b[49m\n\u001b[0;32m      2\u001b[0m dic445\n",
      "\u001b[1;31mTypeError\u001b[0m: unsupported operand type(s) for +: 'dict' and 'dict'"
     ]
    }
   ],
   "source": [
    "dic445= dic1 + dic3\n",
    "dic445"
   ]
  },
  {
   "cell_type": "code",
   "execution_count": 28,
   "metadata": {},
   "outputs": [
    {
     "name": "stdout",
     "output_type": "stream",
     "text": [
      "not bale to find\n",
      "already exists\n"
     ]
    }
   ],
   "source": [
    "a= {1: 10, 2: 20, 3: 30, 4: 40, 5: 50, 6: 60} # task key matching \n",
    "\n",
    "ke = 2\n",
    "for key in a:\n",
    "    #print(key)\n",
    "    if key == ke:\n",
    "        print(\"already exists\")\n",
    "        break\n",
    "    else:\n",
    "        print(\"not bale to find\")"
   ]
  },
  {
   "cell_type": "code",
   "execution_count": 35,
   "metadata": {},
   "outputs": [
    {
     "name": "stdout",
     "output_type": "stream",
     "text": [
      "matches here\n"
     ]
    }
   ],
   "source": [
    "a= {1: 10, 2: 20, 3: 30, 4: 40, 5: 50, 6: 60} # task key matching \n",
    "n = 3\n",
    "\n",
    "\n",
    "for i,j in a:\n",
    "    found = False\n",
    "    if i ==n:\n",
    "        found = True\n",
    "        break\n",
    "if found:\n",
    "    print(\"matches here with \")\n",
    "else:\n",
    "    print(\"doot match\")"
   ]
  },
  {
   "cell_type": "code",
   "execution_count": 33,
   "metadata": {},
   "outputs": [
    {
     "name": "stdout",
     "output_type": "stream",
     "text": [
      "one\n",
      "two\n",
      "zero\n",
      "matches zero 0\n",
      "four\n",
      "one\n",
      "matches one 1\n",
      "two\n",
      "zero\n",
      "four\n",
      "one\n",
      "two\n",
      "matches two 2\n",
      "zero\n",
      "four\n",
      "one\n",
      "two\n",
      "zero\n",
      "four\n",
      "matches four 4\n"
     ]
    }
   ],
   "source": [
    "\n",
    "d = {\"one\": 1, \"two\": 2, \"zero\": 0, \"four\": 4} # problem 5\n",
    "val = list(d.values())\n",
    "val.sort()\n",
    "val\n",
    "for value in val:\n",
    "    #print(value)\n",
    "    for key in d:\n",
    "        print(key)\n",
    "        if d[key] == value:\n",
    "            print(\"matches\", key , value)"
   ]
  },
  {
   "cell_type": "code",
   "execution_count": 34,
   "metadata": {},
   "outputs": [
    {
     "name": "stdout",
     "output_type": "stream",
     "text": [
      "1 -------- 10\n",
      "2 -------- 20\n",
      "3 -------- 30\n",
      "4 -------- 40\n",
      "5 -------- 50\n",
      "6 -------- 60\n"
     ]
    }
   ],
   "source": [
    "a= {1: 10, 2: 20, 3: 30, 4: 40, 5: 50, 6: 60} # task key matching \n",
    "for i , j in a.items():\n",
    "    print(i ,\"--------\", j)"
   ]
  },
  {
   "cell_type": "code",
   "execution_count": 36,
   "metadata": {},
   "outputs": [
    {
     "data": {
      "text/plain": [
       "{1: 1, 2: 4, 3: 9, 4: 16, 5: 25}"
      ]
     },
     "execution_count": 36,
     "metadata": {},
     "output_type": "execute_result"
    }
   ],
   "source": [
    "n = 6\n",
    "dic = {}\n",
    "for i in range(1, n):\n",
    "    dic[i]= i*i\n",
    "dic\n"
   ]
  },
  {
   "cell_type": "code",
   "execution_count": 38,
   "metadata": {},
   "outputs": [
    {
     "data": {
      "text/plain": [
       "{'a': 100, 'b': 200, 'x': 300, 'y': 200}"
      ]
     },
     "execution_count": 38,
     "metadata": {},
     "output_type": "execute_result"
    }
   ],
   "source": [
    "#problem 8 Write a Python script to merge two Python dictionaries.\n",
    "d1 = {'a': 100, 'b': 200}\n",
    "d2 = {'x': 300, 'y': 200}\n",
    "\n",
    "dic = {**d1, **d2}\n",
    "dic"
   ]
  },
  {
   "cell_type": "code",
   "execution_count": 39,
   "metadata": {},
   "outputs": [
    {
     "name": "stdout",
     "output_type": "stream",
     "text": [
      "293\n"
     ]
    }
   ],
   "source": [
    "my_dict = {'data1': 100, 'data2': -54, 'data3': 247} # problem 10\n",
    "su= 0\n",
    "\n",
    "for key , value in my_dict.items():\n",
    "    su = su + value\n",
    "print(su)\n"
   ]
  },
  {
   "cell_type": "code",
   "execution_count": 40,
   "metadata": {},
   "outputs": [
    {
     "data": {
      "text/plain": [
       "{'a': 1, 'c': 3, 'd': 4}"
      ]
     },
     "execution_count": 40,
     "metadata": {},
     "output_type": "execute_result"
    }
   ],
   "source": [
    "# problem 12  Write a Python program to remove a key from a dictionary\n",
    "myDict = {'a': 1, 'b': 2, 'c': 3, 'd': 4}\n",
    "\n",
    "if \"b\" in myDict:\n",
    "    del myDict[\"b\"]\n",
    "myDict"
   ]
  },
  {
   "cell_type": "code",
   "execution_count": 42,
   "metadata": {},
   "outputs": [
    {
     "data": {
      "text/plain": [
       "{'red': '#FF0000', 'green': '#008000', 'blue': '#0000FF'}"
      ]
     },
     "execution_count": 42,
     "metadata": {},
     "output_type": "execute_result"
    }
   ],
   "source": [
    "# problem 13\n",
    "\n",
    "keys = ['red', 'green', 'blue']\n",
    "values = ['#FF0000', '#008000', '#0000FF']\n",
    "\n",
    "new = dict(zip(keys, values))\n",
    "new"
   ]
  },
  {
   "cell_type": "code",
   "execution_count": 43,
   "metadata": {},
   "outputs": [
    {
     "data": {
      "text/plain": [
       "[('blue', '#0000FF'), ('green', '#008000'), ('red', '#FF0000')]"
      ]
     },
     "execution_count": 43,
     "metadata": {},
     "output_type": "execute_result"
    }
   ],
   "source": [
    "dic = {'red': '#FF0000',  # problem 14\n",
    "       'green': '#008000', \n",
    "       'blue': '#0000FF'}\n",
    "\n",
    "dic = sorted(dic.items())\n",
    "dic"
   ]
  },
  {
   "cell_type": "code",
   "execution_count": null,
   "metadata": {},
   "outputs": [],
   "source": [
    "#problem 15 home work \n",
    "my_dict = {'x': 500, 'y': 5874, 'z': 560,'s': 400,'t': 800,}"
   ]
  },
  {
   "cell_type": "code",
   "execution_count": 44,
   "metadata": {},
   "outputs": [
    {
     "name": "stdout",
     "output_type": "stream",
     "text": [
      "{'name': 'ami', 'nam1': 'tumi', 'nam2': 'se'}\n"
     ]
    }
   ],
   "source": [
    "# 16. Write a Python program to get a dictionary from an object's fields\n",
    "class new_obj():\n",
    "    def __init__(self):\n",
    "        self.name= \"ami\"\n",
    "        self.nam1= \"tumi\"\n",
    "        self.nam2= 'se'\n",
    "\n",
    "creden = new_obj()\n",
    "print(creden.__dict__)"
   ]
  },
  {
   "cell_type": "code",
   "execution_count": 52,
   "metadata": {},
   "outputs": [
    {
     "name": "stdout",
     "output_type": "stream",
     "text": [
      "{'id1': {'name': ['Sara'], 'class': ['V'], 'subject_integration': ['english, math, science']}, 'id2': {'name': ['David'], 'class': ['V'], 'subject_integration': ['english, math, science']}, 'id3': {'name': ['Sara'], 'class': ['V'], 'subject_integration': ['english, math, science']}, 'id4': {'name': ['Surya'], 'class': ['V'], 'subject_integration': ['english, math, science']}}\n"
     ]
    }
   ],
   "source": [
    "# problem 17\n",
    "student_data = {\n",
    "    'id1': {\n",
    "        'name': ['Sara'],\n",
    "        'class': ['V'],\n",
    "        'subject_integration': ['english, math, science']\n",
    "    },\n",
    "    'id2': {\n",
    "        'name': ['David'],\n",
    "        'class': ['V'],\n",
    "        'subject_integration': ['english, math, science']\n",
    "    },\n",
    "    'id3': {\n",
    "        'name': ['Sara'],\n",
    "        'class': ['V'],\n",
    "        'subject_integration': ['english, math, science']\n",
    "    },\n",
    "    'id4': {\n",
    "        'name': ['Surya'],\n",
    "        'class': ['V'],\n",
    "        'subject_integration': ['english, math, science']\n",
    "    }\n",
    "}\n",
    "print(student_data)"
   ]
  },
  {
   "cell_type": "code",
   "execution_count": 47,
   "metadata": {},
   "outputs": [
    {
     "data": {
      "text/html": [
       "<div>\n",
       "<style scoped>\n",
       "    .dataframe tbody tr th:only-of-type {\n",
       "        vertical-align: middle;\n",
       "    }\n",
       "\n",
       "    .dataframe tbody tr th {\n",
       "        vertical-align: top;\n",
       "    }\n",
       "\n",
       "    .dataframe thead th {\n",
       "        text-align: right;\n",
       "    }\n",
       "</style>\n",
       "<table border=\"1\" class=\"dataframe\">\n",
       "  <thead>\n",
       "    <tr style=\"text-align: right;\">\n",
       "      <th></th>\n",
       "      <th>id1</th>\n",
       "      <th>id2</th>\n",
       "      <th>id3</th>\n",
       "      <th>id4</th>\n",
       "    </tr>\n",
       "  </thead>\n",
       "  <tbody>\n",
       "    <tr>\n",
       "      <th>name</th>\n",
       "      <td>[Sara]</td>\n",
       "      <td>[David]</td>\n",
       "      <td>[Sara]</td>\n",
       "      <td>[Surya]</td>\n",
       "    </tr>\n",
       "    <tr>\n",
       "      <th>class</th>\n",
       "      <td>[V]</td>\n",
       "      <td>[V]</td>\n",
       "      <td>[V]</td>\n",
       "      <td>[V]</td>\n",
       "    </tr>\n",
       "    <tr>\n",
       "      <th>subject_integration</th>\n",
       "      <td>[english, math, science]</td>\n",
       "      <td>[english, math, science]</td>\n",
       "      <td>[english, math, science]</td>\n",
       "      <td>[english, math, science]</td>\n",
       "    </tr>\n",
       "  </tbody>\n",
       "</table>\n",
       "</div>"
      ],
      "text/plain": [
       "                                          id1                       id2  \\\n",
       "name                                   [Sara]                   [David]   \n",
       "class                                     [V]                       [V]   \n",
       "subject_integration  [english, math, science]  [english, math, science]   \n",
       "\n",
       "                                          id3                       id4  \n",
       "name                                   [Sara]                   [Surya]  \n",
       "class                                     [V]                       [V]  \n",
       "subject_integration  [english, math, science]  [english, math, science]  "
      ]
     },
     "execution_count": 47,
     "metadata": {},
     "output_type": "execute_result"
    }
   ],
   "source": [
    "df1 = pd.DataFrame(student_data)\n",
    "df1"
   ]
  },
  {
   "cell_type": "code",
   "execution_count": 51,
   "metadata": {},
   "outputs": [
    {
     "name": "stdout",
     "output_type": "stream",
     "text": [
      "{'name': ['Sara'], 'class': ['V'], 'subject_integration': ['english, math, science']}\n",
      "{'name': ['David'], 'class': ['V'], 'subject_integration': ['english, math, science']}\n",
      "{'name': ['Surya'], 'class': ['V'], 'subject_integration': ['english, math, science']}\n"
     ]
    }
   ],
   "source": [
    "dic = {}\n",
    "for key ,value in student_data.items():\n",
    "    if value not in dic.values():\n",
    "        print(value)\n",
    "        dic[key]= value\n"
   ]
  },
  {
   "cell_type": "code",
   "execution_count": 57,
   "metadata": {},
   "outputs": [
    {
     "name": "stdout",
     "output_type": "stream",
     "text": [
      "['Sara']\n",
      "['V']\n",
      "['english, math, science']\n"
     ]
    }
   ],
   "source": [
    "dic = {}\n",
    "for key ,value in student_data.items(): # explore to have access all the values \n",
    "    for i,j in value.items():\n",
    "        if i not in dic.keys():\n",
    "            print(j)\n",
    "            dic[i]= j"
   ]
  },
  {
   "cell_type": "code",
   "execution_count": 61,
   "metadata": {},
   "outputs": [
    {
     "name": "stdout",
     "output_type": "stream",
     "text": [
      "no : there is some value \n"
     ]
    }
   ],
   "source": [
    "# problem 18\n",
    "\n",
    "dic = {}\n",
    "if len(dic) > 0:\n",
    "    print(\"yes : there is  any value \")\n",
    "else:\n",
    "    print(\"no : there is some value \")\n"
   ]
  },
  {
   "cell_type": "code",
   "execution_count": 62,
   "metadata": {},
   "outputs": [
    {
     "data": {
      "text/plain": [
       "{'a': 500, 'b': 200, 'c': 300}"
      ]
     },
     "execution_count": 62,
     "metadata": {},
     "output_type": "execute_result"
    }
   ],
   "source": [
    "d1 = {'a': 100, 'b': 200, 'c':300, \"a\": 500}\n",
    "d1\n"
   ]
  },
  {
   "cell_type": "code",
   "execution_count": 64,
   "metadata": {},
   "outputs": [
    {
     "data": {
      "text/plain": [
       "{'b': 400, 'c': 300, 'a': 400, 'd': 400}"
      ]
     },
     "execution_count": 64,
     "metadata": {},
     "output_type": "execute_result"
    }
   ],
   "source": [
    "\n",
    "d1 = {'a': 100, 'b': 200, 'c':300}\n",
    "d2 = {'a': 300, 'b': 200, 'd':400}\n",
    "dic = {}\n",
    "for key in set(d1.keys()) | set(d2.keys()):\n",
    "    if key in d1 and key in d2:\n",
    "        dic[key]= d1[key] + d2[key]\n",
    "    elif key in d1:\n",
    "        dic[key]= d1[key]\n",
    "    else:\n",
    "        dic[key]= d2[key]\n",
    "\n",
    "dic"
   ]
  },
  {
   "cell_type": "code",
   "execution_count": 66,
   "metadata": {},
   "outputs": [
    {
     "data": {
      "text/plain": [
       "Counter({'a': 400, 'b': 400, 'd': 400, 'c': 300})"
      ]
     },
     "execution_count": 66,
     "metadata": {},
     "output_type": "execute_result"
    }
   ],
   "source": [
    "from collections import Counter\n",
    "new = Counter(d1) + Counter(d2)\n",
    "new"
   ]
  },
  {
   "cell_type": "code",
   "execution_count": 67,
   "metadata": {},
   "outputs": [
    {
     "data": {
      "text/plain": [
       "[{'V': 'S001'},\n",
       " {'V': 'S002'},\n",
       " {'VI': 'S001'},\n",
       " {'VI': 'S005'},\n",
       " {'VII': 'S005'},\n",
       " {'V': 'S009'},\n",
       " {'VIII': 'S007'}]"
      ]
     },
     "execution_count": 67,
     "metadata": {},
     "output_type": "execute_result"
    }
   ],
   "source": [
    "Sample_Data= [{\"V\":\"S001\"}, \n",
    "              {\"V\": \"S002\"},\n",
    "                {\"VI\": \"S001\"}, \n",
    "               {\"VI\": \"S005\"},\n",
    "                {\"VII\":\"S005\"}, \n",
    "                {\"V\":\"S009\"},\n",
    "                {\"VIII\":\"S007\"}]\n",
    "\n",
    "Sample_Data"
   ]
  },
  {
   "cell_type": "code",
   "execution_count": 76,
   "metadata": {},
   "outputs": [
    {
     "name": "stdout",
     "output_type": "stream",
     "text": [
      "S001\n",
      "S002\n",
      "S001\n",
      "S005\n",
      "S005\n",
      "S009\n",
      "S007\n",
      "{'S009', 'S002', 'S005', 'S001', 'S007'}\n"
     ]
    }
   ],
   "source": [
    "li= []\n",
    "for i in Sample_Data:\n",
    "    #print(i)\n",
    "    for value in i.values():\n",
    "        print(value)\n",
    "        li.append(value)\n",
    "print(set(li))\n",
    "   "
   ]
  },
  {
   "cell_type": "code",
   "execution_count": null,
   "metadata": {},
   "outputs": [],
   "source": []
  }
 ],
 "metadata": {
  "kernelspec": {
   "display_name": "Python 3",
   "language": "python",
   "name": "python3"
  },
  "language_info": {
   "codemirror_mode": {
    "name": "ipython",
    "version": 3
   },
   "file_extension": ".py",
   "mimetype": "text/x-python",
   "name": "python",
   "nbconvert_exporter": "python",
   "pygments_lexer": "ipython3",
   "version": "3.11.4"
  }
 },
 "nbformat": 4,
 "nbformat_minor": 2
}
